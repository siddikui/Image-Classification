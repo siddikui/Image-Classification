{
 "cells": [
  {
   "cell_type": "markdown",
   "metadata": {
    "collapsed": true
   },
   "source": [
    "# Image Classification\n",
    "In this project, you'll classify images from the [CIFAR-10 dataset](https://www.cs.toronto.edu/~kriz/cifar.html).  The dataset consists of airplanes, dogs, cats, and other objects. You'll preprocess the images, then train a convolutional neural network on all the samples. The images need to be normalized and the labels need to be one-hot encoded.  You'll get to apply what you learned and build a convolutional, max pooling, dropout, and fully connected layers.  At the end, you'll get to see your neural network's predictions on the sample images.\n",
    "## Get the Data\n",
    "Run the following cell to download the [CIFAR-10 dataset for python](https://www.cs.toronto.edu/~kriz/cifar-10-python.tar.gz)."
   ]
  },
  {
   "cell_type": "code",
   "execution_count": 146,
   "metadata": {},
   "outputs": [
    {
     "name": "stdout",
     "output_type": "stream",
     "text": [
      "All files found!\n"
     ]
    }
   ],
   "source": [
    "\"\"\"\n",
    "DON'T MODIFY ANYTHING IN THIS CELL THAT IS BELOW THIS LINE\n",
    "\"\"\"\n",
    "from urllib.request import urlretrieve\n",
    "from os.path import isfile, isdir\n",
    "from tqdm import tqdm\n",
    "import problem_unittests as tests\n",
    "import tarfile\n",
    "\n",
    "cifar10_dataset_folder_path = 'cifar-10-batches-py'\n",
    "\n",
    "# Use Floyd's cifar-10 dataset if present\n",
    "floyd_cifar10_location = '/input/cifar-10/python.tar.gz'\n",
    "if isfile(floyd_cifar10_location):\n",
    "    tar_gz_path = floyd_cifar10_location\n",
    "else:\n",
    "    tar_gz_path = 'cifar-10-python.tar.gz'\n",
    "\n",
    "class DLProgress(tqdm):\n",
    "    last_block = 0\n",
    "\n",
    "    def hook(self, block_num=1, block_size=1, total_size=None):\n",
    "        self.total = total_size\n",
    "        self.update((block_num - self.last_block) * block_size)\n",
    "        self.last_block = block_num\n",
    "\n",
    "if not isfile(tar_gz_path):\n",
    "    with DLProgress(unit='B', unit_scale=True, miniters=1, desc='CIFAR-10 Dataset') as pbar:\n",
    "        urlretrieve(\n",
    "            'https://www.cs.toronto.edu/~kriz/cifar-10-python.tar.gz',\n",
    "            tar_gz_path,\n",
    "            pbar.hook)\n",
    "\n",
    "if not isdir(cifar10_dataset_folder_path):\n",
    "    with tarfile.open(tar_gz_path) as tar:\n",
    "        tar.extractall()\n",
    "        tar.close()\n",
    "\n",
    "\n",
    "tests.test_folder_path(cifar10_dataset_folder_path)"
   ]
  },
  {
   "cell_type": "markdown",
   "metadata": {},
   "source": [
    "## Explore the Data\n",
    "The dataset is broken into batches to prevent your machine from running out of memory.  The CIFAR-10 dataset consists of 5 batches, named `data_batch_1`, `data_batch_2`, etc.. Each batch contains the labels and images that are one of the following:\n",
    "* airplane\n",
    "* automobile\n",
    "* bird\n",
    "* cat\n",
    "* deer\n",
    "* dog\n",
    "* frog\n",
    "* horse\n",
    "* ship\n",
    "* truck\n",
    "\n",
    "Understanding a dataset is part of making predictions on the data.  Play around with the code cell below by changing the `batch_id` and `sample_id`. The `batch_id` is the id for a batch (1-5). The `sample_id` is the id for a image and label pair in the batch.\n",
    "\n",
    "Ask yourself \"What are all possible labels?\", \"What is the range of values for the image data?\", \"Are the labels in order or random?\".  Answers to questions like these will help you preprocess the data and end up with better predictions."
   ]
  },
  {
   "cell_type": "code",
   "execution_count": 147,
   "metadata": {},
   "outputs": [
    {
     "name": "stdout",
     "output_type": "stream",
     "text": [
      "\n",
      "Stats of batch 2:\n",
      "Samples: 10000\n",
      "Label Counts: {0: 984, 1: 1007, 2: 1010, 3: 995, 4: 1010, 5: 988, 6: 1008, 7: 1026, 8: 987, 9: 985}\n",
      "First 20 Labels: [1, 6, 6, 8, 8, 3, 4, 6, 0, 6, 0, 3, 6, 6, 5, 4, 8, 3, 2, 6]\n",
      "\n",
      "Example of Image 7:\n",
      "Image - Min Value: 4 Max Value: 226\n",
      "Image - Shape: (32, 32, 3)\n",
      "Label - Label Id: 6 Name: frog\n"
     ]
    },
    {
     "data": {
      "image/png": "[encoded data removed]",
      "text/plain": [
       "<matplotlib.figure.Figure at 0x7fd7a1316940>"
      ]
     },
     "metadata": {
      "image/png": {
       "height": 250,
       "width": 253
      }
     },
     "output_type": "display_data"
    }
   ],
   "source": [
    "%matplotlib inline\n",
    "%config InlineBackend.figure_format = 'retina'\n",
    "\n",
    "import helper\n",
    "import numpy as np\n",
    "\n",
    "# Explore the dataset\n",
    "batch_id = 2\n",
    "sample_id = 7\n",
    "helper.display_stats(cifar10_dataset_folder_path, batch_id, sample_id)"
   ]
  },
  {
   "cell_type": "markdown",
   "metadata": {},
   "source": [
    "## Implement Preprocess Functions\n",
    "### Normalize\n",
    "In the cell below, implement the `normalize` function to take in image data, `x`, and return it as a normalized Numpy array. The values should be in the range of 0 to 1, inclusive.  The return object should be the same shape as `x`."
   ]
  },
  {
   "cell_type": "code",
   "execution_count": 148,
   "metadata": {},
   "outputs": [
    {
     "name": "stdout",
     "output_type": "stream",
     "text": [
      "Tests Passed\n"
     ]
    }
   ],
   "source": [
    "def normalize(x):\n",
    "    \"\"\"\n",
    "    Normalize a list of sample image data in the range of 0 to 1\n",
    "    : x: List of image data.  The image shape is (32, 32, 3)\n",
    "    : return: Numpy array of normalize data\n",
    "    \"\"\"\n",
    "    # TODO: Implement Function\n",
    "    return x/255\n",
    "\n",
    "\n",
    "\"\"\"\n",
    "DON'T MODIFY ANYTHING IN THIS CELL THAT IS BELOW THIS LINE\n",
    "\"\"\"\n",
    "tests.test_normalize(normalize)"
   ]
  },
  {
   "cell_type": "markdown",
   "metadata": {},
   "source": [
    "### One-hot encode\n",
    "Just like the previous code cell, you'll be implementing a function for preprocessing.  This time, you'll implement the `one_hot_encode` function. The input, `x`, are a list of labels.  Implement the function to return the list of labels as One-Hot encoded Numpy array.  The possible values for labels are 0 to 9. The one-hot encoding function should return the same encoding for each value between each call to `one_hot_encode`.  Make sure to save the map of encodings outside the function.\n",
    "\n",
    "Hint: Don't reinvent the wheel."
   ]
  },
  {
   "cell_type": "code",
   "execution_count": 149,
   "metadata": {},
   "outputs": [
    {
     "name": "stdout",
     "output_type": "stream",
     "text": [
      "Tests Passed\n"
     ]
    }
   ],
   "source": [
    "from sklearn.preprocessing import LabelBinarizer\n",
    "\n",
    "\n",
    "def one_hot_encode(x):\n",
    "    \"\"\"\n",
    "    One hot encode a list of sample labels. Return a one-hot encoded vector for each label.\n",
    "    : x: List of sample Labels\n",
    "    : return: Numpy array of one-hot encoded labels\n",
    "    \"\"\"\n",
    "    # TODO: Implement Function\n",
    "    # Turn labels into numbers and apply One-Hot Encoding\n",
    "    encoder = LabelBinarizer()\n",
    "    encoder.fit(range(10))\n",
    "    x = encoder.transform(x)\n",
    "    \n",
    "    return x\n",
    "\n",
    " \n",
    "\"\"\"\n",
    "DON'T MODIFY ANYTHING IN THIS CELL THAT IS BELOW THIS LINE\n",
    "\"\"\"\n",
    "tests.test_one_hot_encode(one_hot_encode)"
   ]
  },
  {
   "cell_type": "markdown",
   "metadata": {},
   "source": [
    "### Randomize Data\n",
    "As you saw from exploring the data above, the order of the samples are randomized.  It doesn't hurt to randomize it again, but you don't need to for this dataset."
   ]
  },
  {
   "cell_type": "markdown",
   "metadata": {},
   "source": [
    "## Preprocess all the data and save it\n",
    "Running the code cell below will preprocess all the CIFAR-10 data and save it to file. The code below also uses 10% of the training data for validation."
   ]
  },
  {
   "cell_type": "code",
   "execution_count": 150,
   "metadata": {
    "collapsed": true
   },
   "outputs": [],
   "source": [
    "\"\"\"\n",
    "DON'T MODIFY ANYTHING IN THIS CELL\n",
    "\"\"\"\n",
    "# Preprocess Training, Validation, and Testing Data\n",
    "helper.preprocess_and_save_data(cifar10_dataset_folder_path, normalize, one_hot_encode)"
   ]
  },
  {
   "cell_type": "markdown",
   "metadata": {},
   "source": [
    "# Check Point\n",
    "This is your first checkpoint.  If you ever decide to come back to this notebook or have to restart the notebook, you can start from here.  The preprocessed data has been saved to disk."
   ]
  },
  {
   "cell_type": "code",
   "execution_count": 151,
   "metadata": {},
   "outputs": [
    {
     "name": "stdout",
     "output_type": "stream",
     "text": [
      "Validation Samples Size:  5000\n"
     ]
    }
   ],
   "source": [
    "\"\"\"\n",
    "DON'T MODIFY ANYTHING IN THIS CELL\n",
    "\"\"\"\n",
    "import pickle\n",
    "import problem_unittests as tests\n",
    "import helper\n",
    "\n",
    "# Load the Preprocessed Validation data\n",
    "valid_features, valid_labels = pickle.load(open('preprocess_validation.p', mode='rb'))\n",
    "print(\"Validation Samples Size: \",len(valid_features))"
   ]
  },
  {
   "cell_type": "markdown",
   "metadata": {},
   "source": [
    "## Build the network\n",
    "For the neural network, you'll build each layer into a function.  Most of the code you've seen has been outside of functions. To test your code more thoroughly, we require that you put each layer in a function.  This allows us to give you better feedback and test for simple mistakes using our unittests before you submit your project.\n",
    "\n",
    ">**Note:** If you're finding it hard to dedicate enough time for this course each week, we've provided a small shortcut to this part of the project. In the next couple of problems, you'll have the option to use classes from the [TensorFlow Layers](https://www.tensorflow.org/api_docs/python/tf/layers) or [TensorFlow Layers (contrib)](https://www.tensorflow.org/api_guides/python/contrib.layers) packages to build each layer, except the layers you build in the \"Convolutional and Max Pooling Layer\" section.  TF Layers is similar to Keras's and TFLearn's abstraction to layers, so it's easy to pickup.\n",
    "\n",
    ">However, if you would like to get the most out of this course, try to solve all the problems _without_ using anything from the TF Layers packages. You **can** still use classes from other packages that happen to have the same name as ones you find in TF Layers! For example, instead of using the TF Layers version of the `conv2d` class, [tf.layers.conv2d](https://www.tensorflow.org/api_docs/python/tf/layers/conv2d), you would want to use the TF Neural Network version of `conv2d`, [tf.nn.conv2d](https://www.tensorflow.org/api_docs/python/tf/nn/conv2d). \n",
    "\n",
    "Let's begin!\n",
    "\n",
    "### Input\n",
    "The neural network needs to read the image data, one-hot encoded labels, and dropout keep probability. Implement the following functions\n",
    "* Implement `neural_net_image_input`\n",
    " * Return a [TF Placeholder](https://www.tensorflow.org/api_docs/python/tf/placeholder)\n",
    " * Set the shape using `image_shape` with batch size set to `None`.\n",
    " * Name the TensorFlow placeholder \"x\" using the TensorFlow `name` parameter in the [TF Placeholder](https://www.tensorflow.org/api_docs/python/tf/placeholder).\n",
    "* Implement `neural_net_label_input`\n",
    " * Return a [TF Placeholder](https://www.tensorflow.org/api_docs/python/tf/placeholder)\n",
    " * Set the shape using `n_classes` with batch size set to `None`.\n",
    " * Name the TensorFlow placeholder \"y\" using the TensorFlow `name` parameter in the [TF Placeholder](https://www.tensorflow.org/api_docs/python/tf/placeholder).\n",
    "* Implement `neural_net_keep_prob_input`\n",
    " * Return a [TF Placeholder](https://www.tensorflow.org/api_docs/python/tf/placeholder) for dropout keep probability.\n",
    " * Name the TensorFlow placeholder \"keep_prob\" using the TensorFlow `name` parameter in the [TF Placeholder](https://www.tensorflow.org/api_docs/python/tf/placeholder).\n",
    "\n",
    "These names will be used at the end of the project to load your saved model.\n",
    "\n",
    "Note: `None` for shapes in TensorFlow allow for a dynamic size."
   ]
  },
  {
   "cell_type": "code",
   "execution_count": 152,
   "metadata": {},
   "outputs": [
    {
     "name": "stdout",
     "output_type": "stream",
     "text": [
      "Image Input Tests Passed.\n",
      "Label Input Tests Passed.\n",
      "Keep Prob Tests Passed.\n"
     ]
    }
   ],
   "source": [
    "import tensorflow as tf\n",
    "\n",
    "def neural_net_image_input(image_shape):\n",
    "    \"\"\"\n",
    "    Return a Tensor for a batch of image input\n",
    "    : image_shape: Shape of the images\n",
    "    : return: Tensor for image input.\n",
    "    \"\"\"\n",
    "    # TODO: Implement Function\n",
    "    h, w, d = image_shape\n",
    "    \n",
    "    \n",
    "    return tf.placeholder(tf.float32,[None,h,w,d],'x')\n",
    "\n",
    "\n",
    "def neural_net_label_input(n_classes):\n",
    "    \"\"\"\n",
    "    Return a Tensor for a batch of label input\n",
    "    : n_classes: Number of classes\n",
    "    : return: Tensor for label input.\n",
    "    \"\"\"\n",
    "    # TODO: Implement Function\n",
    "    \n",
    "    return tf.placeholder(tf.float32,[None,n_classes],'y')\n",
    "\n",
    "\n",
    "def neural_net_keep_prob_input():\n",
    "    \"\"\"\n",
    "    Return a Tensor for keep probability\n",
    "    : return: Tensor for keep probability.\n",
    "    \"\"\"\n",
    "    # TODO: Implement Function\n",
    "    \n",
    "    return tf.placeholder(tf.float32,None,'keep_prob')\n",
    "\n",
    "\n",
    "\"\"\"\n",
    "DON'T MODIFY ANYTHING IN THIS CELL THAT IS BELOW THIS LINE\n",
    "\"\"\"\n",
    "tf.reset_default_graph()\n",
    "tests.test_nn_image_inputs(neural_net_image_input)\n",
    "tests.test_nn_label_inputs(neural_net_label_input)\n",
    "tests.test_nn_keep_prob_inputs(neural_net_keep_prob_input)"
   ]
  },
  {
   "cell_type": "markdown",
   "metadata": {},
   "source": [
    "### Convolution and Max Pooling Layer\n",
    "Convolution layers have a lot of success with images. For this code cell, you should implement the function `conv2d_maxpool` to apply convolution then max pooling:\n",
    "* Create the weight and bias using `conv_ksize`, `conv_num_outputs` and the shape of `x_tensor`.\n",
    "* Apply a convolution to `x_tensor` using weight and `conv_strides`.\n",
    " * We recommend you use same padding, but you're welcome to use any padding.\n",
    "* Add bias\n",
    "* Add a nonlinear activation to the convolution.\n",
    "* Apply Max Pooling using `pool_ksize` and `pool_strides`.\n",
    " * We recommend you use same padding, but you're welcome to use any padding.\n",
    "\n",
    "**Note:** You **can't** use [TensorFlow Layers](https://www.tensorflow.org/api_docs/python/tf/layers) or [TensorFlow Layers (contrib)](https://www.tensorflow.org/api_guides/python/contrib.layers) for **this** layer, but you can still use TensorFlow's [Neural Network](https://www.tensorflow.org/api_docs/python/tf/nn) package. You may still use the shortcut option for all the **other** layers."
   ]
  },
  {
   "cell_type": "code",
   "execution_count": 3,
   "metadata": {},
   "outputs": [
    {
     "name": "stdout",
     "output_type": "stream",
     "text": [
      "Tests Passed\n"
     ]
    }
   ],
   "source": [
    "def conv2d_maxpool(x_tensor, conv_num_outputs, conv_ksize, conv_strides, pool_ksize, pool_strides):\n",
    "    \"\"\"\n",
    "    Apply convolution then max pooling to x_tensor\n",
    "    :param x_tensor: TensorFlow Tensor    \n",
    "    :param conv_num_outputs: Number of outputs for the convolutional layer\n",
    "    :param conv_ksize: kernal size 2-D Tuple for the convolutional layer\n",
    "    :param conv_strides: Stride 2-D Tuple for convolution\n",
    "    \n",
    "    :param pool_ksize: kernal size 2-D Tuple for pool\n",
    "    :param pool_strides: Stride 2-D Tuple for pool\n",
    "    : return: A tensor that represents convolution and max pooling of x_tensor\n",
    "    \"\"\"\n",
    "    # TODO: Implement Function\n",
    "    \n",
    "    f_h, f_w = conv_ksize\n",
    "    d = x_tensor.get_shape()[3].value\n",
    "    \n",
    "    \n",
    "    W = tf.Variable(tf.truncated_normal([f_h, f_w, d , conv_num_outputs]))\n",
    "    b = tf.Variable(tf.truncated_normal([conv_num_outputs]))\n",
    "    \n",
    "    s_h, s_w = conv_strides    \n",
    "    \n",
    "    x = tf.nn.conv2d(x_tensor, W, strides=[1, s_h, s_w, 1], padding='VALID')\n",
    "    x = tf.nn.bias_add(x, b)\n",
    "    \n",
    "    x = tf.nn.relu(x)\n",
    "    \n",
    "    p_h, p_w = pool_ksize\n",
    "    ps_h, ps_w = pool_strides\n",
    "    \n",
    "    x = tf.nn.max_pool(x, ksize=[1, p_h, p_w, 1], strides=[1, ps_h, ps_w, 1], padding='VALID')\n",
    "    \n",
    "    return x \n",
    "\n",
    "\n",
    "\"\"\"\n",
    "DON'T MODIFY ANYTHING IN THIS CELL THAT IS BELOW THIS LINE\n",
    "\"\"\"\n",
    "tests.test_con_pool(conv2d_maxpool)"
   ]
  },
  {
   "cell_type": "markdown",
   "metadata": {},
   "source": [
    "##### For the bias, tf.truncated_normal and tf.zeros, both worked for this project."
   ]
  },
  {
   "cell_type": "markdown",
   "metadata": {},
   "source": [
    "### Flatten Layer\n",
    "Implement the `flatten` function to change the dimension of `x_tensor` from a 4-D tensor to a 2-D tensor.  The output should be the shape (*Batch Size*, *Flattened Image Size*). Shortcut option: you can use classes from the [TensorFlow Layers](https://www.tensorflow.org/api_docs/python/tf/layers) or [TensorFlow Layers (contrib)](https://www.tensorflow.org/api_guides/python/contrib.layers) packages for this layer. For more of a challenge, only use other TensorFlow packages."
   ]
  },
  {
   "cell_type": "code",
   "execution_count": 67,
   "metadata": {},
   "outputs": [
    {
     "name": "stdout",
     "output_type": "stream",
     "text": [
      "Tests Passed\n"
     ]
    }
   ],
   "source": [
    "def flatten(x_tensor):\n",
    "    \"\"\"\n",
    "    Flatten x_tensor to (Batch Size, Flattened Image Size)\n",
    "    : x_tensor: A tensor of size (Batch Size, ...), where ... are the image dimensions.\n",
    "    : return: A tensor of size (Batch Size, Flattened Image Size).\n",
    "    \"\"\"\n",
    "    # TODO: Implement Function\n",
    "    #H = x_tensor.get_shape()[1].value\n",
    "    #W = x_tensor.get_shape()[2].value\n",
    "    #D = x_tensor.get_shape()[3].value\n",
    "    #dim = H*W*D\n",
    "    #x = tf.reshape(x_tensor,[-1,dim])\n",
    "    x = tf.contrib.layers.flatten(x_tensor)\n",
    "    return x\n",
    "\n",
    "\n",
    "\"\"\"\n",
    "DON'T MODIFY ANYTHING IN THIS CELL THAT IS BELOW THIS LINE\n",
    "\"\"\"\n",
    "tests.test_flatten(flatten)"
   ]
  },
  {
   "cell_type": "markdown",
   "metadata": {},
   "source": [
    "##### The commented method didn't work at all :( It was the only blocker for 2 days."
   ]
  },
  {
   "cell_type": "markdown",
   "metadata": {},
   "source": [
    "### Fully-Connected Layer\n",
    "Implement the `fully_conn` function to apply a fully connected layer to `x_tensor` with the shape (*Batch Size*, *num_outputs*). Shortcut option: you can use classes from the [TensorFlow Layers](https://www.tensorflow.org/api_docs/python/tf/layers) or [TensorFlow Layers (contrib)](https://www.tensorflow.org/api_guides/python/contrib.layers) packages for this layer. For more of a challenge, only use other TensorFlow packages."
   ]
  },
  {
   "cell_type": "code",
   "execution_count": 82,
   "metadata": {},
   "outputs": [
    {
     "name": "stdout",
     "output_type": "stream",
     "text": [
      "Tests Passed\n"
     ]
    }
   ],
   "source": [
    "def fully_conn(x_tensor, num_outputs):\n",
    "    \"\"\"\n",
    "    Apply a fully connected layer to x_tensor using weight and bias\n",
    "    : x_tensor: A 2-D tensor where the first dimension is batch size.\n",
    "    : num_outputs: The number of output that the new tensor should be.\n",
    "    : return: A 2-D tensor where the second dimension is num_outputs.\n",
    "    \"\"\"\n",
    "    # TODO: Implement Function\n",
    "    \n",
    "    d = x_tensor.get_shape()[1].value\n",
    "    \n",
    "    w = tf.Variable(tf.truncated_normal([d, num_outputs],0,0.1))\n",
    "    b = tf.Variable(tf.zeros([num_outputs]))\n",
    "        \n",
    "    x = tf.add(tf.matmul(x_tensor, w), b)\n",
    "    x = tf.nn.relu(x)\n",
    "    #x = tf.contrib.layers.fully_connected(x_tensor,num_outputs,tf.nn.relu)\n",
    "    return x   \n",
    "\n",
    "\n",
    "\"\"\"\n",
    "DON'T MODIFY ANYTHING IN THIS CELL THAT IS BELOW THIS LINE\n",
    "\"\"\"\n",
    "tests.test_fully_conn(fully_conn)"
   ]
  },
  {
   "cell_type": "markdown",
   "metadata": {},
   "source": [
    "##### Using tf.contrib.layers.fully_connected drastically improves faster learning. Couldn't find why in the tf.contrib documentation. The other method did fine."
   ]
  },
  {
   "cell_type": "markdown",
   "metadata": {},
   "source": [
    "### Output Layer\n",
    "Implement the `output` function to apply a fully connected layer to `x_tensor` with the shape (*Batch Size*, *num_outputs*). Shortcut option: you can use classes from the [TensorFlow Layers](https://www.tensorflow.org/api_docs/python/tf/layers) or [TensorFlow Layers (contrib)](https://www.tensorflow.org/api_guides/python/contrib.layers) packages for this layer. For more of a challenge, only use other TensorFlow packages.\n",
    "\n",
    "**Note:** Activation, softmax, or cross entropy should **not** be applied to this."
   ]
  },
  {
   "cell_type": "code",
   "execution_count": 83,
   "metadata": {},
   "outputs": [
    {
     "name": "stdout",
     "output_type": "stream",
     "text": [
      "Tests Passed\n"
     ]
    }
   ],
   "source": [
    "def output(x_tensor, num_outputs):\n",
    "    \"\"\"\n",
    "    Apply a output layer to x_tensor using weight and bias\n",
    "    : x_tensor: A 2-D tensor where the first dimension is batch size.\n",
    "    : num_outputs: The number of output that the new tensor should be.\n",
    "    : return: A 2-D tensor where the second dimension is num_outputs.\n",
    "    \"\"\"\n",
    "    # TODO: Implement Function\n",
    "    d = x_tensor.get_shape()[1].value\n",
    "    \n",
    "    w = tf.Variable(tf.truncated_normal([d, num_outputs],0,0.1))\n",
    "    b = tf.Variable(tf.zeros([num_outputs]))\n",
    "    \n",
    "    x = tf.add(tf.matmul(x_tensor, w), b)\n",
    "    #x = tf.layers.dense(x_tensor,num_outputs,None)\n",
    "    return x  \n",
    "\n",
    "\n",
    "\"\"\"\n",
    "DON'T MODIFY ANYTHING IN THIS CELL THAT IS BELOW THIS LINE\n",
    "\"\"\"\n",
    "tests.test_output(output)"
   ]
  },
  {
   "cell_type": "markdown",
   "metadata": {},
   "source": [
    "##### Using tf.layers.dense drastically improves faster learning. The other method also worked."
   ]
  },
  {
   "cell_type": "markdown",
   "metadata": {},
   "source": [
    "### Create Convolutional Model\n",
    "Implement the function `conv_net` to create a convolutional neural network model. The function takes in a batch of images, `x`, and outputs logits.  Use the layers you created above to create this model:\n",
    "\n",
    "* Apply 1, 2, or 3 Convolution and Max Pool layers\n",
    "* Apply a Flatten Layer\n",
    "* Apply 1, 2, or 3 Fully Connected Layers\n",
    "* Apply an Output Layer\n",
    "* Return the output\n",
    "* Apply [TensorFlow's Dropout](https://www.tensorflow.org/api_docs/python/tf/nn/dropout) to one or more layers in the model using `keep_prob`. "
   ]
  },
  {
   "cell_type": "code",
   "execution_count": 136,
   "metadata": {},
   "outputs": [
    {
     "name": "stdout",
     "output_type": "stream",
     "text": [
      "Neural Network Built!\n"
     ]
    }
   ],
   "source": [
    "def conv_net(x, keep_prob):\n",
    "    \"\"\"\n",
    "    Create a convolutional neural network model\n",
    "    : x: Placeholder tensor that holds image data.\n",
    "    : keep_prob: Placeholder tensor that hold dropout keep probability.\n",
    "    : return: Tensor that represents logits\n",
    "    \"\"\"\n",
    "    # TODO: Apply 1, 2, or 3 Convolution and Max Pool layers\n",
    "    #    Play around with different number of outputs, kernel size and stride\n",
    "    # Function Definition from Above:\n",
    "    #    conv2d_maxpool(x_tensor, conv_num_outputs, conv_ksize, conv_strides, \n",
    "    #pool_ksize, pool_strides)\n",
    "    \n",
    "    conv_ksize = (3,3)\n",
    "    conv_strides = (1,1)\n",
    "    pool_ksize = (2,2)\n",
    "    pool_strides = (2,2)\n",
    "    \n",
    "    conv1 = conv2d_maxpool(x, 48, conv_ksize, conv_strides, pool_ksize, pool_strides)\n",
    "    conv1   = tf.nn.dropout(conv1, keep_prob) \n",
    "\n",
    "    #conv2 = conv2d_maxpool(conv1, 48, conv_ksize, conv_strides, pool_ksize, pool_strides)\n",
    "    #conv2   = tf.nn.dropout(conv2, keep_prob) \n",
    "\n",
    "    #conv3 = conv2d_maxpool(conv2, 96, conv_ksize, conv_strides, pool_ksize, pool_strides)\n",
    "    #conv3   = tf.nn.dropout(conv3, keep_prob) \n",
    "\n",
    "    # TODO: Apply a Flatten Layer\n",
    "    # Function Definition from Above:\n",
    "    #   flatten(x_tensor)\n",
    "    \n",
    "    fc0 = flatten(conv1)\n",
    "    \n",
    "    # TODO: Apply 1, 2, or 3 Fully Connected Layers\n",
    "    #    Play around with different number of outputs\n",
    "    # Function Definition from Above:\n",
    "    #   fully_conn(x_tensor, num_outputs)\n",
    "    \n",
    "    \n",
    "    fc1 = fully_conn(fc0, 256)\n",
    "    \n",
    "    # TODO: Apply an Output Layer\n",
    "    #    Set this to the number of classes\n",
    "    # Function Definition from Above:\n",
    "    #   output(x_tensor, num_outputs)\n",
    "    \n",
    "    out = output(fc1,10)\n",
    "    \n",
    "    # TODO: return output\n",
    "    return out\n",
    "\n",
    "\n",
    "\"\"\"\n",
    "DON'T MODIFY ANYTHING IN THIS CELL THAT IS BELOW THIS LINE\n",
    "\"\"\"\n",
    "\n",
    "##############################\n",
    "## Build the Neural Network ##\n",
    "##############################\n",
    "\n",
    "# Remove previous weights, bias, inputs, etc..\n",
    "tf.reset_default_graph()\n",
    "\n",
    "# Inputs\n",
    "x = neural_net_image_input((32, 32, 3))\n",
    "y = neural_net_label_input(10)\n",
    "keep_prob = neural_net_keep_prob_input()\n",
    "\n",
    "# Model\n",
    "logits = conv_net(x, keep_prob)\n",
    "\n",
    "# Name logits Tensor, so that is can be loaded from disk after training\n",
    "logits = tf.identity(logits, name='logits')\n",
    "\n",
    "# Loss and Optimizer\n",
    "cost = tf.reduce_mean(tf.nn.softmax_cross_entropy_with_logits(logits=logits, labels=y))\n",
    "optimizer = tf.train.AdamOptimizer().minimize(cost)\n",
    "\n",
    "# Accuracy\n",
    "correct_pred = tf.equal(tf.argmax(logits, 1), tf.argmax(y, 1))\n",
    "accuracy = tf.reduce_mean(tf.cast(correct_pred, tf.float32), name='accuracy')\n",
    "\n",
    "tests.test_conv_net(conv_net)"
   ]
  },
  {
   "cell_type": "markdown",
   "metadata": {},
   "source": [
    "##### This is not understandable at all, additional layers didn't help. Adding fully connected layers wouldn't help.  Dropout works don't know why, it doesn't work don't know why :( Theory says techniques would help but practical says something else. There can be infinite combinations of layers, kernel sizes, strides, pooling. Are there any rules for setting up network architecture for problem at hand or it does take experimentation and random guessing?  "
   ]
  },
  {
   "cell_type": "markdown",
   "metadata": {},
   "source": [
    "## Train the Neural Network\n",
    "### Single Optimization\n",
    "Implement the function `train_neural_network` to do a single optimization.  The optimization should use `optimizer` to optimize in `session` with a `feed_dict` of the following:\n",
    "* `x` for image input\n",
    "* `y` for labels\n",
    "* `keep_prob` for keep probability for dropout\n",
    "\n",
    "This function will be called for each batch, so `tf.global_variables_initializer()` has already been called.\n",
    "\n",
    "Note: Nothing needs to be returned. This function is only optimizing the neural network."
   ]
  },
  {
   "cell_type": "code",
   "execution_count": 137,
   "metadata": {},
   "outputs": [
    {
     "name": "stdout",
     "output_type": "stream",
     "text": [
      "Tests Passed\n"
     ]
    }
   ],
   "source": [
    "def train_neural_network(session, optimizer, keep_probability, feature_batch, label_batch):\n",
    "    \"\"\"\n",
    "    Optimize the session on a batch of images and labels\n",
    "    : session: Current TensorFlow session\n",
    "    : optimizer: TensorFlow optimizer function\n",
    "    : keep_probability: keep probability\n",
    "    : feature_batch: Batch of Numpy image data\n",
    "    : label_batch: Batch of Numpy label data\n",
    "    \"\"\"\n",
    "    # TODO: Implement Function\n",
    "    session.run(optimizer, feed_dict={x: feature_batch, y: label_batch, keep_prob: keep_probability})\n",
    "    pass\n",
    "\n",
    "\n",
    "\"\"\"\n",
    "DON'T MODIFY ANYTHING IN THIS CELL THAT IS BELOW THIS LINE\n",
    "\"\"\"\n",
    "tests.test_train_nn(train_neural_network)"
   ]
  },
  {
   "cell_type": "markdown",
   "metadata": {},
   "source": [
    "### Show Stats\n",
    "Implement the function `print_stats` to print loss and validation accuracy.  Use the global variables `valid_features` and `valid_labels` to calculate validation accuracy.  Use a keep probability of `1.0` to calculate the loss and validation accuracy."
   ]
  },
  {
   "cell_type": "code",
   "execution_count": 138,
   "metadata": {
    "collapsed": true
   },
   "outputs": [],
   "source": [
    "def print_stats(session, feature_batch, label_batch, cost, accuracy):\n",
    "    \"\"\"\n",
    "    Print information about loss and validation accuracy\n",
    "    : session: Current TensorFlow session\n",
    "    : feature_batch: Batch of Numpy image data\n",
    "    : label_batch: Batch of Numpy label data\n",
    "    : cost: TensorFlow cost function\n",
    "    : accuracy: TensorFlow accuracy function\n",
    "    \"\"\"\n",
    "    # TODO: Implement Function\n",
    "    loss = session.run(cost, feed_dict={x: feature_batch, y: label_batch, keep_prob: 1.})\n",
    "    \n",
    "    valid_acc = session.run(accuracy, feed_dict={x: valid_features,y: valid_labels,keep_prob: 1.})\n",
    "    \n",
    "    print('Loss: {:>10.4f} Validation Accuracy: {:.6f}'.format(loss, valid_acc))\n",
    "    pass"
   ]
  },
  {
   "cell_type": "markdown",
   "metadata": {},
   "source": [
    "### Hyperparameters\n",
    "Tune the following parameters:\n",
    "* Set `epochs` to the number of iterations until the network stops learning or start overfitting\n",
    "* Set `batch_size` to the highest number that your machine has memory for.  Most people set them to common sizes of memory:\n",
    " * 64\n",
    " * 128\n",
    " * 256\n",
    " * ...\n",
    "* Set `keep_probability` to the probability of keeping a node using dropout"
   ]
  },
  {
   "cell_type": "code",
   "execution_count": 141,
   "metadata": {
    "collapsed": true
   },
   "outputs": [],
   "source": [
    "# TODO: Tune Parameters\n",
    "epochs = 30\n",
    "batch_size = 128\n",
    "keep_probability = 0.5"
   ]
  },
  {
   "cell_type": "markdown",
   "metadata": {},
   "source": [
    "### Train on a Single CIFAR-10 Batch\n",
    "Instead of training the neural network on all the CIFAR-10 batches of data, let's use a single batch. This should save time while you iterate on the model to get a better accuracy.  Once the final validation accuracy is 50% or greater, run the model on all the data in the next section."
   ]
  },
  {
   "cell_type": "code",
   "execution_count": 142,
   "metadata": {},
   "outputs": [
    {
     "name": "stdout",
     "output_type": "stream",
     "text": [
      "Checking the Training on a Single Batch...\n",
      "Epoch  1, CIFAR-10 Batch 1:  Loss:     2.2757 Validation Accuracy: 0.116800\n",
      "Epoch  2, CIFAR-10 Batch 1:  Loss:     2.2931 Validation Accuracy: 0.171600\n",
      "Epoch  3, CIFAR-10 Batch 1:  Loss:     2.1974 Validation Accuracy: 0.202000\n",
      "Epoch  4, CIFAR-10 Batch 1:  Loss:     2.1491 Validation Accuracy: 0.212800\n",
      "Epoch  5, CIFAR-10 Batch 1:  Loss:     2.0952 Validation Accuracy: 0.221800\n",
      "Epoch  6, CIFAR-10 Batch 1:  Loss:     2.0889 Validation Accuracy: 0.234600\n",
      "Epoch  7, CIFAR-10 Batch 1:  Loss:     2.0165 Validation Accuracy: 0.272200\n",
      "Epoch  8, CIFAR-10 Batch 1:  Loss:     1.9575 Validation Accuracy: 0.275800\n",
      "Epoch  9, CIFAR-10 Batch 1:  Loss:     1.9232 Validation Accuracy: 0.305800\n",
      "Epoch 10, CIFAR-10 Batch 1:  Loss:     1.9067 Validation Accuracy: 0.317800\n",
      "Epoch 11, CIFAR-10 Batch 1:  Loss:     1.8546 Validation Accuracy: 0.365800\n",
      "Epoch 12, CIFAR-10 Batch 1:  Loss:     1.8351 Validation Accuracy: 0.360200\n",
      "Epoch 13, CIFAR-10 Batch 1:  Loss:     1.7839 Validation Accuracy: 0.384000\n",
      "Epoch 14, CIFAR-10 Batch 1:  Loss:     1.7582 Validation Accuracy: 0.387600\n",
      "Epoch 15, CIFAR-10 Batch 1:  Loss:     1.7390 Validation Accuracy: 0.389000\n",
      "Epoch 16, CIFAR-10 Batch 1:  Loss:     1.6838 Validation Accuracy: 0.409000\n",
      "Epoch 17, CIFAR-10 Batch 1:  Loss:     1.6620 Validation Accuracy: 0.408000\n",
      "Epoch 18, CIFAR-10 Batch 1:  Loss:     1.5618 Validation Accuracy: 0.430600\n",
      "Epoch 19, CIFAR-10 Batch 1:  Loss:     1.4957 Validation Accuracy: 0.440000\n",
      "Epoch 20, CIFAR-10 Batch 1:  Loss:     1.4032 Validation Accuracy: 0.445400\n",
      "Epoch 21, CIFAR-10 Batch 1:  Loss:     1.3497 Validation Accuracy: 0.450800\n",
      "Epoch 22, CIFAR-10 Batch 1:  Loss:     1.3149 Validation Accuracy: 0.462200\n",
      "Epoch 23, CIFAR-10 Batch 1:  Loss:     1.2605 Validation Accuracy: 0.470000\n",
      "Epoch 24, CIFAR-10 Batch 1:  Loss:     1.2001 Validation Accuracy: 0.469800\n",
      "Epoch 25, CIFAR-10 Batch 1:  Loss:     1.1259 Validation Accuracy: 0.477800\n",
      "Epoch 26, CIFAR-10 Batch 1:  Loss:     1.1258 Validation Accuracy: 0.489000\n",
      "Epoch 27, CIFAR-10 Batch 1:  Loss:     1.0863 Validation Accuracy: 0.485200\n",
      "Epoch 28, CIFAR-10 Batch 1:  Loss:     1.0261 Validation Accuracy: 0.489400\n",
      "Epoch 29, CIFAR-10 Batch 1:  Loss:     1.0112 Validation Accuracy: 0.502400\n",
      "Epoch 30, CIFAR-10 Batch 1:  Loss:     0.9746 Validation Accuracy: 0.503200\n"
     ]
    }
   ],
   "source": [
    "\"\"\"\n",
    "DON'T MODIFY ANYTHING IN THIS CELL\n",
    "\"\"\"\n",
    "print('Checking the Training on a Single Batch...')\n",
    "with tf.Session() as sess:\n",
    "    # Initializing the variables\n",
    "    sess.run(tf.global_variables_initializer())\n",
    "    \n",
    "    # Training cycle\n",
    "    for epoch in range(epochs):\n",
    "        batch_i = 1\n",
    "        for batch_features, batch_labels in helper.load_preprocess_training_batch(batch_i, batch_size):\n",
    "            train_neural_network(sess, optimizer, keep_probability, batch_features, batch_labels)\n",
    "        print('Epoch {:>2}, CIFAR-10 Batch {}:  '.format(epoch + 1, batch_i), end='')\n",
    "        print_stats(sess, batch_features, batch_labels, cost, accuracy)"
   ]
  },
  {
   "cell_type": "markdown",
   "metadata": {},
   "source": [
    "### Fully Train the Model\n",
    "Now that you got a good accuracy with a single CIFAR-10 batch, try it with all five batches."
   ]
  },
  {
   "cell_type": "code",
   "execution_count": 143,
   "metadata": {},
   "outputs": [
    {
     "name": "stdout",
     "output_type": "stream",
     "text": [
      "Training...\n",
      "Epoch  1, CIFAR-10 Batch 1:  Loss:     2.3030 Validation Accuracy: 0.099800\n",
      "Epoch  1, CIFAR-10 Batch 2:  Loss:     2.3018 Validation Accuracy: 0.099800\n",
      "Epoch  1, CIFAR-10 Batch 3:  Loss:     2.2997 Validation Accuracy: 0.102000\n",
      "Epoch  1, CIFAR-10 Batch 4:  Loss:     2.2440 Validation Accuracy: 0.161200\n",
      "Epoch  1, CIFAR-10 Batch 5:  Loss:     2.2620 Validation Accuracy: 0.182000\n",
      "Epoch  2, CIFAR-10 Batch 1:  Loss:     2.2314 Validation Accuracy: 0.219200\n",
      "Epoch  2, CIFAR-10 Batch 2:  Loss:     2.0103 Validation Accuracy: 0.242000\n",
      "Epoch  2, CIFAR-10 Batch 3:  Loss:     1.7866 Validation Accuracy: 0.216600\n",
      "Epoch  2, CIFAR-10 Batch 4:  Loss:     1.9452 Validation Accuracy: 0.261000\n",
      "Epoch  2, CIFAR-10 Batch 5:  Loss:     1.9156 Validation Accuracy: 0.264200\n",
      "Epoch  3, CIFAR-10 Batch 1:  Loss:     2.0948 Validation Accuracy: 0.263600\n",
      "Epoch  3, CIFAR-10 Batch 2:  Loss:     1.8682 Validation Accuracy: 0.295000\n",
      "Epoch  3, CIFAR-10 Batch 3:  Loss:     1.6436 Validation Accuracy: 0.297000\n",
      "Epoch  3, CIFAR-10 Batch 4:  Loss:     1.8009 Validation Accuracy: 0.311800\n",
      "Epoch  3, CIFAR-10 Batch 5:  Loss:     1.8100 Validation Accuracy: 0.301400\n",
      "Epoch  4, CIFAR-10 Batch 1:  Loss:     1.9799 Validation Accuracy: 0.319000\n",
      "Epoch  4, CIFAR-10 Batch 2:  Loss:     1.6915 Validation Accuracy: 0.335400\n",
      "Epoch  4, CIFAR-10 Batch 3:  Loss:     1.5117 Validation Accuracy: 0.335400\n",
      "Epoch  4, CIFAR-10 Batch 4:  Loss:     1.6758 Validation Accuracy: 0.341800\n",
      "Epoch  4, CIFAR-10 Batch 5:  Loss:     1.6728 Validation Accuracy: 0.354800\n",
      "Epoch  5, CIFAR-10 Batch 1:  Loss:     1.9052 Validation Accuracy: 0.350800\n",
      "Epoch  5, CIFAR-10 Batch 2:  Loss:     1.6151 Validation Accuracy: 0.362000\n",
      "Epoch  5, CIFAR-10 Batch 3:  Loss:     1.4721 Validation Accuracy: 0.357600\n",
      "Epoch  5, CIFAR-10 Batch 4:  Loss:     1.6002 Validation Accuracy: 0.367600\n",
      "Epoch  5, CIFAR-10 Batch 5:  Loss:     1.5840 Validation Accuracy: 0.386000\n",
      "Epoch  6, CIFAR-10 Batch 1:  Loss:     1.7603 Validation Accuracy: 0.406000\n",
      "Epoch  6, CIFAR-10 Batch 2:  Loss:     1.4231 Validation Accuracy: 0.426000\n",
      "Epoch  6, CIFAR-10 Batch 3:  Loss:     1.2818 Validation Accuracy: 0.423600\n",
      "Epoch  6, CIFAR-10 Batch 4:  Loss:     1.5246 Validation Accuracy: 0.440000\n",
      "Epoch  6, CIFAR-10 Batch 5:  Loss:     1.4510 Validation Accuracy: 0.450400\n",
      "Epoch  7, CIFAR-10 Batch 1:  Loss:     1.5556 Validation Accuracy: 0.458600\n",
      "Epoch  7, CIFAR-10 Batch 2:  Loss:     1.3390 Validation Accuracy: 0.462200\n",
      "Epoch  7, CIFAR-10 Batch 3:  Loss:     1.1610 Validation Accuracy: 0.460800\n",
      "Epoch  7, CIFAR-10 Batch 4:  Loss:     1.4089 Validation Accuracy: 0.475600\n",
      "Epoch  7, CIFAR-10 Batch 5:  Loss:     1.3388 Validation Accuracy: 0.482600\n",
      "Epoch  8, CIFAR-10 Batch 1:  Loss:     1.4032 Validation Accuracy: 0.490800\n",
      "Epoch  8, CIFAR-10 Batch 2:  Loss:     1.2774 Validation Accuracy: 0.493200\n",
      "Epoch  8, CIFAR-10 Batch 3:  Loss:     1.0396 Validation Accuracy: 0.497200\n",
      "Epoch  8, CIFAR-10 Batch 4:  Loss:     1.3295 Validation Accuracy: 0.498600\n",
      "Epoch  8, CIFAR-10 Batch 5:  Loss:     1.2493 Validation Accuracy: 0.505400\n",
      "Epoch  9, CIFAR-10 Batch 1:  Loss:     1.3212 Validation Accuracy: 0.513000\n",
      "Epoch  9, CIFAR-10 Batch 2:  Loss:     1.2045 Validation Accuracy: 0.513400\n",
      "Epoch  9, CIFAR-10 Batch 3:  Loss:     1.0305 Validation Accuracy: 0.516400\n",
      "Epoch  9, CIFAR-10 Batch 4:  Loss:     1.2298 Validation Accuracy: 0.519400\n",
      "Epoch  9, CIFAR-10 Batch 5:  Loss:     1.1929 Validation Accuracy: 0.526600\n",
      "Epoch 10, CIFAR-10 Batch 1:  Loss:     1.2787 Validation Accuracy: 0.528600\n",
      "Epoch 10, CIFAR-10 Batch 2:  Loss:     1.1564 Validation Accuracy: 0.527800\n",
      "Epoch 10, CIFAR-10 Batch 3:  Loss:     0.9686 Validation Accuracy: 0.531200\n",
      "Epoch 10, CIFAR-10 Batch 4:  Loss:     1.1981 Validation Accuracy: 0.530600\n",
      "Epoch 10, CIFAR-10 Batch 5:  Loss:     1.1516 Validation Accuracy: 0.542200\n",
      "Epoch 11, CIFAR-10 Batch 1:  Loss:     1.2443 Validation Accuracy: 0.538600\n",
      "Epoch 11, CIFAR-10 Batch 2:  Loss:     1.0803 Validation Accuracy: 0.545400\n",
      "Epoch 11, CIFAR-10 Batch 3:  Loss:     0.8976 Validation Accuracy: 0.542000\n",
      "Epoch 11, CIFAR-10 Batch 4:  Loss:     1.1257 Validation Accuracy: 0.545600\n",
      "Epoch 11, CIFAR-10 Batch 5:  Loss:     1.0622 Validation Accuracy: 0.550800\n",
      "Epoch 12, CIFAR-10 Batch 1:  Loss:     1.2299 Validation Accuracy: 0.552000\n",
      "Epoch 12, CIFAR-10 Batch 2:  Loss:     1.0112 Validation Accuracy: 0.555400\n",
      "Epoch 12, CIFAR-10 Batch 3:  Loss:     0.8572 Validation Accuracy: 0.556200\n",
      "Epoch 12, CIFAR-10 Batch 4:  Loss:     1.0954 Validation Accuracy: 0.549400\n",
      "Epoch 12, CIFAR-10 Batch 5:  Loss:     1.0213 Validation Accuracy: 0.560400\n",
      "Epoch 13, CIFAR-10 Batch 1:  Loss:     1.1703 Validation Accuracy: 0.560000\n",
      "Epoch 13, CIFAR-10 Batch 2:  Loss:     0.9727 Validation Accuracy: 0.559400\n",
      "Epoch 13, CIFAR-10 Batch 3:  Loss:     0.8077 Validation Accuracy: 0.561600\n",
      "Epoch 13, CIFAR-10 Batch 4:  Loss:     1.0258 Validation Accuracy: 0.562800\n",
      "Epoch 13, CIFAR-10 Batch 5:  Loss:     0.9792 Validation Accuracy: 0.571200\n",
      "Epoch 14, CIFAR-10 Batch 1:  Loss:     1.1553 Validation Accuracy: 0.572400\n",
      "Epoch 14, CIFAR-10 Batch 2:  Loss:     0.8637 Validation Accuracy: 0.571600\n",
      "Epoch 14, CIFAR-10 Batch 3:  Loss:     0.7481 Validation Accuracy: 0.580800\n",
      "Epoch 14, CIFAR-10 Batch 4:  Loss:     0.9779 Validation Accuracy: 0.574200\n",
      "Epoch 14, CIFAR-10 Batch 5:  Loss:     0.9536 Validation Accuracy: 0.577000\n",
      "Epoch 15, CIFAR-10 Batch 1:  Loss:     1.1701 Validation Accuracy: 0.581400\n",
      "Epoch 15, CIFAR-10 Batch 2:  Loss:     0.8439 Validation Accuracy: 0.574600\n",
      "Epoch 15, CIFAR-10 Batch 3:  Loss:     0.7006 Validation Accuracy: 0.579000\n",
      "Epoch 15, CIFAR-10 Batch 4:  Loss:     0.9296 Validation Accuracy: 0.573000\n",
      "Epoch 15, CIFAR-10 Batch 5:  Loss:     0.9317 Validation Accuracy: 0.581800\n",
      "Epoch 16, CIFAR-10 Batch 1:  Loss:     1.1260 Validation Accuracy: 0.586400\n",
      "Epoch 16, CIFAR-10 Batch 2:  Loss:     0.8026 Validation Accuracy: 0.585200\n",
      "Epoch 16, CIFAR-10 Batch 3:  Loss:     0.6645 Validation Accuracy: 0.593400\n",
      "Epoch 16, CIFAR-10 Batch 4:  Loss:     0.8382 Validation Accuracy: 0.584000\n",
      "Epoch 16, CIFAR-10 Batch 5:  Loss:     0.9020 Validation Accuracy: 0.589200\n",
      "Epoch 17, CIFAR-10 Batch 1:  Loss:     1.0913 Validation Accuracy: 0.595200\n",
      "Epoch 17, CIFAR-10 Batch 2:  Loss:     0.7230 Validation Accuracy: 0.589800\n",
      "Epoch 17, CIFAR-10 Batch 3:  Loss:     0.6088 Validation Accuracy: 0.587400\n",
      "Epoch 17, CIFAR-10 Batch 4:  Loss:     0.7932 Validation Accuracy: 0.583400\n",
      "Epoch 17, CIFAR-10 Batch 5:  Loss:     0.8506 Validation Accuracy: 0.599000\n",
      "Epoch 18, CIFAR-10 Batch 1:  Loss:     1.0674 Validation Accuracy: 0.597400\n",
      "Epoch 18, CIFAR-10 Batch 2:  Loss:     0.6526 Validation Accuracy: 0.597800\n",
      "Epoch 18, CIFAR-10 Batch 3:  Loss:     0.5793 Validation Accuracy: 0.596600\n",
      "Epoch 18, CIFAR-10 Batch 4:  Loss:     0.7294 Validation Accuracy: 0.595400\n",
      "Epoch 18, CIFAR-10 Batch 5:  Loss:     0.7905 Validation Accuracy: 0.602600\n",
      "Epoch 19, CIFAR-10 Batch 1:  Loss:     0.9858 Validation Accuracy: 0.602600\n",
      "Epoch 19, CIFAR-10 Batch 2:  Loss:     0.6160 Validation Accuracy: 0.603200\n",
      "Epoch 19, CIFAR-10 Batch 3:  Loss:     0.5096 Validation Accuracy: 0.599800\n",
      "Epoch 19, CIFAR-10 Batch 4:  Loss:     0.6964 Validation Accuracy: 0.607200\n",
      "Epoch 19, CIFAR-10 Batch 5:  Loss:     0.7128 Validation Accuracy: 0.608200\n",
      "Epoch 20, CIFAR-10 Batch 1:  Loss:     0.8685 Validation Accuracy: 0.609200\n",
      "Epoch 20, CIFAR-10 Batch 2:  Loss:     0.5639 Validation Accuracy: 0.610000\n",
      "Epoch 20, CIFAR-10 Batch 3:  Loss:     0.4830 Validation Accuracy: 0.608200\n",
      "Epoch 20, CIFAR-10 Batch 4:  Loss:     0.6322 Validation Accuracy: 0.613200\n",
      "Epoch 20, CIFAR-10 Batch 5:  Loss:     0.6471 Validation Accuracy: 0.614000\n",
      "Epoch 21, CIFAR-10 Batch 1:  Loss:     0.8205 Validation Accuracy: 0.612600\n",
      "Epoch 21, CIFAR-10 Batch 2:  Loss:     0.5376 Validation Accuracy: 0.612200\n",
      "Epoch 21, CIFAR-10 Batch 3:  Loss:     0.4246 Validation Accuracy: 0.612200\n",
      "Epoch 21, CIFAR-10 Batch 4:  Loss:     0.6027 Validation Accuracy: 0.614200\n",
      "Epoch 21, CIFAR-10 Batch 5:  Loss:     0.6107 Validation Accuracy: 0.623000\n",
      "Epoch 22, CIFAR-10 Batch 1:  Loss:     0.7052 Validation Accuracy: 0.621000\n",
      "Epoch 22, CIFAR-10 Batch 2:  Loss:     0.5157 Validation Accuracy: 0.616600\n",
      "Epoch 22, CIFAR-10 Batch 3:  Loss:     0.4120 Validation Accuracy: 0.615600\n"
     ]
    },
    {
     "name": "stdout",
     "output_type": "stream",
     "text": [
      "Epoch 22, CIFAR-10 Batch 4:  Loss:     0.5425 Validation Accuracy: 0.621400\n",
      "Epoch 22, CIFAR-10 Batch 5:  Loss:     0.5404 Validation Accuracy: 0.617400\n",
      "Epoch 23, CIFAR-10 Batch 1:  Loss:     0.6373 Validation Accuracy: 0.622200\n",
      "Epoch 23, CIFAR-10 Batch 2:  Loss:     0.4343 Validation Accuracy: 0.622200\n",
      "Epoch 23, CIFAR-10 Batch 3:  Loss:     0.3993 Validation Accuracy: 0.625600\n",
      "Epoch 23, CIFAR-10 Batch 4:  Loss:     0.5688 Validation Accuracy: 0.628400\n",
      "Epoch 23, CIFAR-10 Batch 5:  Loss:     0.4959 Validation Accuracy: 0.630800\n",
      "Epoch 24, CIFAR-10 Batch 1:  Loss:     0.5923 Validation Accuracy: 0.624800\n",
      "Epoch 24, CIFAR-10 Batch 2:  Loss:     0.4273 Validation Accuracy: 0.624600\n",
      "Epoch 24, CIFAR-10 Batch 3:  Loss:     0.3587 Validation Accuracy: 0.626200\n",
      "Epoch 24, CIFAR-10 Batch 4:  Loss:     0.5124 Validation Accuracy: 0.631200\n",
      "Epoch 24, CIFAR-10 Batch 5:  Loss:     0.4591 Validation Accuracy: 0.627800\n",
      "Epoch 25, CIFAR-10 Batch 1:  Loss:     0.5583 Validation Accuracy: 0.634400\n",
      "Epoch 25, CIFAR-10 Batch 2:  Loss:     0.3741 Validation Accuracy: 0.630800\n",
      "Epoch 25, CIFAR-10 Batch 3:  Loss:     0.3414 Validation Accuracy: 0.624200\n",
      "Epoch 25, CIFAR-10 Batch 4:  Loss:     0.4379 Validation Accuracy: 0.634200\n",
      "Epoch 25, CIFAR-10 Batch 5:  Loss:     0.3703 Validation Accuracy: 0.634800\n",
      "Epoch 26, CIFAR-10 Batch 1:  Loss:     0.4987 Validation Accuracy: 0.636600\n",
      "Epoch 26, CIFAR-10 Batch 2:  Loss:     0.3398 Validation Accuracy: 0.636800\n",
      "Epoch 26, CIFAR-10 Batch 3:  Loss:     0.2902 Validation Accuracy: 0.633000\n",
      "Epoch 26, CIFAR-10 Batch 4:  Loss:     0.4265 Validation Accuracy: 0.629200\n",
      "Epoch 26, CIFAR-10 Batch 5:  Loss:     0.3626 Validation Accuracy: 0.637000\n",
      "Epoch 27, CIFAR-10 Batch 1:  Loss:     0.4142 Validation Accuracy: 0.632600\n",
      "Epoch 27, CIFAR-10 Batch 2:  Loss:     0.2801 Validation Accuracy: 0.630000\n",
      "Epoch 27, CIFAR-10 Batch 3:  Loss:     0.2754 Validation Accuracy: 0.635200\n",
      "Epoch 27, CIFAR-10 Batch 4:  Loss:     0.3869 Validation Accuracy: 0.628600\n",
      "Epoch 27, CIFAR-10 Batch 5:  Loss:     0.3312 Validation Accuracy: 0.640200\n",
      "Epoch 28, CIFAR-10 Batch 1:  Loss:     0.3456 Validation Accuracy: 0.636200\n",
      "Epoch 28, CIFAR-10 Batch 2:  Loss:     0.2166 Validation Accuracy: 0.632600\n",
      "Epoch 28, CIFAR-10 Batch 3:  Loss:     0.2731 Validation Accuracy: 0.624600\n",
      "Epoch 28, CIFAR-10 Batch 4:  Loss:     0.3481 Validation Accuracy: 0.636600\n",
      "Epoch 28, CIFAR-10 Batch 5:  Loss:     0.2670 Validation Accuracy: 0.636600\n",
      "Epoch 29, CIFAR-10 Batch 1:  Loss:     0.3095 Validation Accuracy: 0.642200\n",
      "Epoch 29, CIFAR-10 Batch 2:  Loss:     0.1971 Validation Accuracy: 0.632200\n",
      "Epoch 29, CIFAR-10 Batch 3:  Loss:     0.2059 Validation Accuracy: 0.627800\n",
      "Epoch 29, CIFAR-10 Batch 4:  Loss:     0.2641 Validation Accuracy: 0.639000\n",
      "Epoch 29, CIFAR-10 Batch 5:  Loss:     0.2447 Validation Accuracy: 0.638000\n",
      "Epoch 30, CIFAR-10 Batch 1:  Loss:     0.2708 Validation Accuracy: 0.641600\n",
      "Epoch 30, CIFAR-10 Batch 2:  Loss:     0.1814 Validation Accuracy: 0.635400\n",
      "Epoch 30, CIFAR-10 Batch 3:  Loss:     0.1590 Validation Accuracy: 0.636400\n",
      "Epoch 30, CIFAR-10 Batch 4:  Loss:     0.2648 Validation Accuracy: 0.630000\n",
      "Epoch 30, CIFAR-10 Batch 5:  Loss:     0.2477 Validation Accuracy: 0.638400\n"
     ]
    }
   ],
   "source": [
    "\"\"\"\n",
    "DON'T MODIFY ANYTHING IN THIS CELL\n",
    "\"\"\"\n",
    "save_model_path = './image_classification'\n",
    "\n",
    "print('Training...')\n",
    "with tf.Session() as sess:\n",
    "    # Initializing the variables\n",
    "    sess.run(tf.global_variables_initializer())\n",
    "    \n",
    "    # Training cycle\n",
    "    for epoch in range(epochs):\n",
    "        # Loop over all batches\n",
    "        n_batches = 5\n",
    "        for batch_i in range(1, n_batches + 1):\n",
    "            for batch_features, batch_labels in helper.load_preprocess_training_batch(batch_i, batch_size):\n",
    "                train_neural_network(sess, optimizer, keep_probability, batch_features, batch_labels)\n",
    "            print('Epoch {:>2}, CIFAR-10 Batch {}:  '.format(epoch + 1, batch_i), end='')\n",
    "            print_stats(sess, batch_features, batch_labels, cost, accuracy)\n",
    "            \n",
    "    # Save Model\n",
    "    saver = tf.train.Saver()\n",
    "    save_path = saver.save(sess, save_model_path)"
   ]
  },
  {
   "cell_type": "markdown",
   "metadata": {},
   "source": [
    "# Checkpoint\n",
    "The model has been saved to disk.\n",
    "## Test Model\n",
    "Test your model against the test dataset.  This will be your final accuracy. You should have an accuracy greater than 50%. If you don't, keep tweaking the model architecture and parameters."
   ]
  },
  {
   "cell_type": "code",
   "execution_count": 144,
   "metadata": {},
   "outputs": [
    {
     "name": "stdout",
     "output_type": "stream",
     "text": [
      "INFO:tensorflow:Restoring parameters from ./image_classification\n",
      "Testing Accuracy: 0.6367681962025317\n",
      "\n"
     ]
    },
    {
     "data": {
      "image/png": "[encoded data removed]",
      "text/plain": [
       "<matplotlib.figure.Figure at 0x7fd7a1d669b0>"
      ]
     },
     "metadata": {
      "image/png": {
       "height": 319,
       "width": 355
      }
     },
     "output_type": "display_data"
    }
   ],
   "source": [
    "\"\"\"\n",
    "DON'T MODIFY ANYTHING IN THIS CELL\n",
    "\"\"\"\n",
    "%matplotlib inline\n",
    "%config InlineBackend.figure_format = 'retina'\n",
    "\n",
    "import tensorflow as tf\n",
    "import pickle\n",
    "import helper\n",
    "import random\n",
    "\n",
    "# Set batch size if not already set\n",
    "try:\n",
    "    if batch_size:\n",
    "        pass\n",
    "except NameError:\n",
    "    batch_size = 64\n",
    "\n",
    "save_model_path = './image_classification'\n",
    "n_samples = 4\n",
    "top_n_predictions = 3\n",
    "\n",
    "def test_model():\n",
    "    \"\"\"\n",
    "    Test the saved model against the test dataset\n",
    "    \"\"\"\n",
    "\n",
    "    test_features, test_labels = pickle.load(open('preprocess_test.p', mode='rb'))\n",
    "    loaded_graph = tf.Graph()\n",
    "\n",
    "    with tf.Session(graph=loaded_graph) as sess:\n",
    "        # Load model\n",
    "        loader = tf.train.import_meta_graph(save_model_path + '.meta')\n",
    "        loader.restore(sess, save_model_path)\n",
    "\n",
    "        # Get Tensors from loaded model\n",
    "        loaded_x = loaded_graph.get_tensor_by_name('x:0')\n",
    "        loaded_y = loaded_graph.get_tensor_by_name('y:0')\n",
    "        loaded_keep_prob = loaded_graph.get_tensor_by_name('keep_prob:0')\n",
    "        loaded_logits = loaded_graph.get_tensor_by_name('logits:0')\n",
    "        loaded_acc = loaded_graph.get_tensor_by_name('accuracy:0')\n",
    "        \n",
    "        # Get accuracy in batches for memory limitations\n",
    "        test_batch_acc_total = 0\n",
    "        test_batch_count = 0\n",
    "        \n",
    "        for test_feature_batch, test_label_batch in helper.batch_features_labels(test_features, test_labels, batch_size):\n",
    "            test_batch_acc_total += sess.run(\n",
    "                loaded_acc,\n",
    "                feed_dict={loaded_x: test_feature_batch, loaded_y: test_label_batch, loaded_keep_prob: 1.0})\n",
    "            test_batch_count += 1\n",
    "\n",
    "        print('Testing Accuracy: {}\\n'.format(test_batch_acc_total/test_batch_count))\n",
    "\n",
    "        # Print Random Samples\n",
    "        random_test_features, random_test_labels = tuple(zip(*random.sample(list(zip(test_features, test_labels)), n_samples)))\n",
    "        random_test_predictions = sess.run(\n",
    "            tf.nn.top_k(tf.nn.softmax(loaded_logits), top_n_predictions),\n",
    "            feed_dict={loaded_x: random_test_features, loaded_y: random_test_labels, loaded_keep_prob: 1.0})\n",
    "        helper.display_image_predictions(random_test_features, random_test_labels, random_test_predictions)\n",
    "\n",
    "\n",
    "test_model()"
   ]
  },
  {
   "cell_type": "markdown",
   "metadata": {},
   "source": [
    "## Why 50-80% Accuracy?\n",
    "You might be wondering why you can't get an accuracy any higher. First things first, 50% isn't bad for a simple CNN.  Pure guessing would get you 10% accuracy. However, you might notice people are getting scores [well above 80%](http://rodrigob.github.io/are_we_there_yet/build/classification_datasets_results.html#43494641522d3130).  That's because we haven't taught you all there is to know about neural networks. We still need to cover a few more techniques.\n",
    "## Submitting This Project\n",
    "When submitting this project, make sure to run all the cells before saving the notebook.  Save the notebook file as \"dlnd_image_classification.ipynb\" and save it as a HTML file under \"File\" -> \"Download as\".  Include the \"helper.py\" and \"problem_unittests.py\" files in your submission."
   ]
  }
 ],
 "metadata": {
  "kernelspec": {
   "display_name": "Python 3",
   "language": "python",
   "name": "python3"
  },
  "language_info": {
   "codemirror_mode": {
    "name": "ipython",
    "version": 3
   },
   "file_extension": ".py",
   "mimetype": "text/x-python",
   "name": "python",
   "nbconvert_exporter": "python",
   "pygments_lexer": "ipython3",
   "version": "3.6.2"
  }
 },
 "nbformat": 4,
 "nbformat_minor": 1
}
